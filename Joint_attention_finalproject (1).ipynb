{
  "nbformat": 4,
  "nbformat_minor": 5,
  "metadata": {
    "kernelspec": {
      "display_name": "Python 3",
      "language": "python",
      "name": "python3"
    },
    "language_info": {
      "codemirror_mode": {
        "name": "ipython",
        "version": 3
      },
      "file_extension": ".py",
      "mimetype": "text/x-python",
      "name": "python",
      "nbconvert_exporter": "python",
      "pygments_lexer": "ipython3",
      "version": "3.7.10"
    },
    "colab": {
      "name": "Joint attention finalproject.ipynb",
      "provenance": [],
      "collapsed_sections": []
    }
  },
  "cells": [
    {
      "cell_type": "code",
      "metadata": {
        "colab": {
          "base_uri": "https://localhost:8080/"
        },
        "id": "O7J2q3LeRZzb",
        "outputId": "96048870-7f34-413e-b089-b4946d7c6715"
      },
      "source": [
        "from google.colab import drive\n",
        "drive.mount('/content/gdrive')"
      ],
      "id": "O7J2q3LeRZzb",
      "execution_count": 1,
      "outputs": [
        {
          "output_type": "stream",
          "text": [
            "Mounted at /content/gdrive\n"
          ],
          "name": "stdout"
        }
      ]
    },
    {
      "cell_type": "code",
      "metadata": {
        "id": "d615f5f4"
      },
      "source": [
        "import pandas as pd\n",
        "import matplotlib\n",
        "import tensorflow as tf\n",
        "from sklearn.preprocessing import MinMaxScaler\n",
        "from tensorflow.keras import optimizers\n",
        "from matplotlib import pyplot as plt \n",
        "import numpy as np\n",
        "import seaborn as sn\n",
        "from sklearn.decomposition import PCA\n",
        "import xgboost as xgb\n",
        "from sklearn.metrics import mean_squared_error\n",
        "from sklearn.model_selection import train_test_split\n",
        "from sklearn.metrics import accuracy_score, roc_curve\n",
        "from sklearn.feature_selection import SelectFromModel\n",
        "from sklearn import datasets, metrics, model_selection, svm\n",
        "from sklearn import datasets\n",
        "from sklearn.feature_selection import chi2\n",
        "from sklearn.feature_selection import SelectKBest\n",
        "from tensorflow.keras.models import Sequential\n",
        "from tensorflow.keras.layers import Dense, Dropout, LSTM"
      ],
      "id": "d615f5f4",
      "execution_count": 2,
      "outputs": []
    },
    {
      "cell_type": "markdown",
      "metadata": {
        "id": "27-7r5QeRp-U"
      },
      "source": [
        "Upload Bob and Mel individual data\n"
      ],
      "id": "27-7r5QeRp-U"
    },
    {
      "cell_type": "code",
      "metadata": {
        "id": "c75b21fa"
      },
      "source": [
        "bob = pd.read_csv('/content/gdrive/My Drive/Colab Notebooks/Bob.csv')\n",
        "mel = pd.read_csv('/content/gdrive/My Drive/Colab Notebooks/Mel.csv')\n",
        "#elab = pd.read_csv('/content/gdrive/My Drive/Colab Notebooks/BobandMellCDM.csv')\n",
        "\n",
        "\n"
      ],
      "id": "c75b21fa",
      "execution_count": 3,
      "outputs": []
    },
    {
      "cell_type": "markdown",
      "metadata": {
        "id": "BCeOG1D3RzKU"
      },
      "source": [
        "Extract only 'gaze' data from datasets"
      ],
      "id": "BCeOG1D3RzKU"
    },
    {
      "cell_type": "code",
      "metadata": {
        "id": "jpUhEsAF94Sc"
      },
      "source": [
        "bob = bob.loc[:,bob.columns.str.contains('gaze')]\n",
        "mel = mel.loc[:,mel.columns.str.contains('gaze')]"
      ],
      "id": "jpUhEsAF94Sc",
      "execution_count": 4,
      "outputs": []
    },
    {
      "cell_type": "markdown",
      "metadata": {
        "id": "yE2pIdm4R3eO"
      },
      "source": [
        "Create an 'Elaborated' column for both bob and mel"
      ],
      "id": "yE2pIdm4R3eO"
    },
    {
      "cell_type": "code",
      "metadata": {
        "id": "ZAMttRMn-Lzn"
      },
      "source": [
        "elabo = []\n",
        "for i in range(97056):\n",
        "  elabo.append(0)\n",
        "bob['Elaborated'] = elabo\n",
        "mel['Elaborated'] = elabo"
      ],
      "id": "ZAMttRMn-Lzn",
      "execution_count": 5,
      "outputs": []
    },
    {
      "cell_type": "markdown",
      "metadata": {
        "id": "-RqH0WFLTGDa"
      },
      "source": [
        "I manually filled in the 'Elaborated' values for the first 15 minutes. The 'Elaborated' values in the CDM.csv file were on a completely different timestamp interval than the Bob and Mel datasets, so it would have been extremely difficult to write an algorithm to link them. Most of the 'Elaborated' data was in the first 15 minutes so I figured that was a good sample size to look at. "
      ],
      "id": "-RqH0WFLTGDa"
    },
    {
      "cell_type": "code",
      "metadata": {
        "id": "Jq-G244HAM-t"
      },
      "source": [
        "mel= mel.to_numpy()\n",
        "bob = bob.to_numpy()"
      ],
      "id": "Jq-G244HAM-t",
      "execution_count": 6,
      "outputs": []
    },
    {
      "cell_type": "code",
      "metadata": {
        "id": "n0dkZ1guAVP9"
      },
      "source": [
        "for i in range(1050,1199):\n",
        "  mel[i][8] = 1\n",
        "for i in range(1260,1319):\n",
        "  mel[i][8] = 1\n",
        "for i in range(1230,1259):\n",
        "  bob[i][8] = 1\n",
        "for i in range(1440,1799):\n",
        "  bob[i][8] = 1\n",
        "for i in range(1980,2339):\n",
        "  mel[i][8] = 1\n",
        "for i in range(2370,2459):\n",
        "  bob[i][8] = 1\n",
        "for i in range(2520,2729):\n",
        "  bob[i][8] = 1\n",
        "for i in range(2970,3420):\n",
        "  mel[i][8] = 1\n",
        "for i in range(3421,3449):\n",
        "  bob[i][8] = 1\n",
        "for i in range(3510,3569):\n",
        "  mel[i][8] = 1\n",
        "for i in range(3630,3869):\n",
        "  mel[i][8] = 1\n",
        "for i in range(3869,3889):\n",
        "  bob[i][8] = 1\n",
        "for i in range(3990,4169):\n",
        "  mel[i][8] = 1\n",
        "for i in range(4320,4350):\n",
        "  bob[i][8] = 1\n",
        "for i in range(4350,4380):\n",
        "  mel[i][8] = 1\n",
        "for i in range(5010,5040):\n",
        "  mel[i][8] = 1\n",
        "for i in range(5310,5370):\n",
        "  bob[i][8] = 1\n",
        "for i in range(5310,5490):\n",
        "  mel[i][8] = 1\n",
        "for i in range(5580,5700):\n",
        "  bob[i][8] = 1\n",
        "for i in range(5700,5730):\n",
        "  mel[i][8] = 1\n",
        "for i in range(6060,6540):\n",
        "  mel[i][8] = 1\n",
        "for i in range(6540,7140):\n",
        "  bob[i][8] = 1\n",
        "for i in range(7140,7170):\n",
        "  mel[i][8] = 1\n",
        "for i in range(7350,7410):\n",
        "  bob[i][8] = 1\n",
        "for i in range(7410,7500):\n",
        "  mel[i][8] = 1\n",
        "for i in range(7500,7740):\n",
        "  bob[i][8] = 1\n",
        "for i in range(7740,7860):\n",
        "  mel[i][8] = 1\n",
        "for i in range(8010,8070):\n",
        "  bob[i][8] = 1\n",
        "for i in range(8070,8190):\n",
        "  mel[i][8] = 1\n",
        "for i in range(8190,8250):\n",
        "  bob[i][8] = 1\n",
        "for i in range(8250,8370):\n",
        "  mel[i][8] = 1\n",
        "for i in range(8370,8460):\n",
        "  mel[i][8] = 1\n",
        "for i in range(8460,8520):\n",
        "  bob[i][8] = 1\n",
        "for i in range(8520,8580):\n",
        "  mel[i][8] = 1\n",
        "for i in range(8850,8940):\n",
        "  mel[i][8] = 1\n",
        "for i in range(8940,9000):\n",
        "  bob[i][8] = 1\n",
        "for i in range(9000,9060):\n",
        "  mel[i][8] = 1\n",
        "for i in range(9060,9180):\n",
        "  bob[i][8] = 1\n",
        "for i in range(9180,9240):\n",
        "  mel[i][8] = 1\n",
        "for i in range(9240,9300):\n",
        "  bob[i][8] = 1\n",
        "for i in range(9300,9600):\n",
        "  mel[i][8] = 1\n",
        "for i in range(10130,10340):\n",
        "  mel[i][8] = 1\n",
        "for i in range(10340,10560):\n",
        "  bob[i][8] = 1\n",
        "for i in range(16290,16620):\n",
        "  bob[i][8] = 1\n",
        "for i in range(16620,16800):\n",
        "  mel[i][8] = 1\n",
        "for i in range(16920,17070):\n",
        "  bob[i][8] = 1\n",
        "for i in range(17070,17100):\n",
        "  mel[i][8] = 1\n",
        "for i in range(17400,17490):\n",
        "  bob[i][8] = 1\n",
        "for i in range(17670,17790):\n",
        "  bob[i][8] = 1\n",
        "for i in range(18150,18330):\n",
        "  mel[i][8] = 1\n",
        "for i in range(19230,19590):\n",
        "  mel[i][8] = 1\n",
        "for i in range(19770,19920):\n",
        "  bob[i][8] = 1\n",
        "for i in range(19920,20100):\n",
        "  mel[i][8] = 1\n",
        "for i in range(20370,21000):\n",
        "  bob[i][8] = 1"
      ],
      "id": "n0dkZ1guAVP9",
      "execution_count": 7,
      "outputs": []
    },
    {
      "cell_type": "code",
      "metadata": {
        "id": "mXE1UYxwczBV"
      },
      "source": [
        "mel2 = []\n",
        "bob2 = []\n",
        "mel2[:21000] = mel[:21000]\n",
        "bob2[:21000] = bob[:21000]"
      ],
      "id": "mXE1UYxwczBV",
      "execution_count": 8,
      "outputs": []
    },
    {
      "cell_type": "markdown",
      "metadata": {
        "id": "DiO0PiONThVj"
      },
      "source": [
        "Total number of elaborations"
      ],
      "id": "DiO0PiONThVj"
    },
    {
      "cell_type": "code",
      "metadata": {
        "colab": {
          "base_uri": "https://localhost:8080/"
        },
        "id": "3e3wFauelDeg",
        "outputId": "34d98a9a-408b-4558-a3ee-831996c5fff5"
      },
      "source": [
        "elabs = 0\n",
        "for i in range(len(mel2)):\n",
        "  if mel2[i][8] == 1:\n",
        "    elabs += 1\n",
        "  if bob2[i][8] == 1:\n",
        "    elabs += 1\n",
        "elabs"
      ],
      "id": "3e3wFauelDeg",
      "execution_count": 9,
      "outputs": [
        {
          "output_type": "execute_result",
          "data": {
            "text/plain": [
              "8478"
            ]
          },
          "metadata": {},
          "execution_count": 9
        }
      ]
    },
    {
      "cell_type": "markdown",
      "metadata": {
        "id": "oib4N_39TlE6"
      },
      "source": [
        "lookElabs = number of elaborations during joint attention\n",
        "look = number of time intervals with joint attention"
      ],
      "id": "oib4N_39TlE6"
    },
    {
      "cell_type": "code",
      "metadata": {
        "colab": {
          "base_uri": "https://localhost:8080/"
        },
        "id": "QitWDQ7lcY6T",
        "outputId": "7335f478-1e4d-4b61-8b58-76f7c91464ad"
      },
      "source": [
        "look = 0\n",
        "lookElab = 0\n",
        "for i in range(len(mel2)):\n",
        "  if (mel2[i][0] + bob2[i][0] >= -.2) and (mel2[i][0] + bob2[i][0] <= .2) and (mel2[i][1] + bob2[i][1] >= -.2) and (mel2[i][1] + bob2[i][1] <= .2):\n",
        "    look += 1\n",
        "    if mel2[i][8] == 1:\n",
        "      lookElab += 1\n",
        "    if bob2[i][8] == 1:\n",
        "      lookElab += 1\n",
        "print(look, lookElab, elabs)"
      ],
      "id": "QitWDQ7lcY6T",
      "execution_count": 10,
      "outputs": [
        {
          "output_type": "stream",
          "text": [
            "1042 596 8478\n"
          ],
          "name": "stdout"
        }
      ]
    },
    {
      "cell_type": "markdown",
      "metadata": {
        "id": "2XzRwuLflvRb"
      },
      "source": [
        "57.2% of the time Bob and Mel likely have joint attention in the first 15 minutes of interaction, there is an Elaboration. "
      ],
      "id": "2XzRwuLflvRb"
    },
    {
      "cell_type": "code",
      "metadata": {
        "colab": {
          "base_uri": "https://localhost:8080/"
        },
        "id": "hIkvGKIApSBY",
        "outputId": "894516d8-656b-47f2-db2d-0d88b3854d4f"
      },
      "source": [
        "nolook = 0\n",
        "nolookElab = 0\n",
        "for i in range(len(mel2)):\n",
        "  if (mel2[i][0] + bob2[i][0] < -.2) or (mel2[i][0] + bob2[i][0] > .2) or (mel2[i][1] + bob2[i][1] < -.2) or (mel2[i][1] + bob2[i][1] > .2):\n",
        "    nolook += 1\n",
        "    if mel2[i][8] == 1:\n",
        "      nolookElab += 1\n",
        "    if bob2[i][8] == 1:\n",
        "      nolookElab += 1\n",
        "print(nolook, nolookElab, elabs)"
      ],
      "id": "hIkvGKIApSBY",
      "execution_count": 11,
      "outputs": [
        {
          "output_type": "stream",
          "text": [
            "19958 7882 8478\n"
          ],
          "name": "stdout"
        }
      ]
    },
    {
      "cell_type": "markdown",
      "metadata": {
        "id": "VS_8jP23plkf"
      },
      "source": [
        "39.6% of the time Bob and Mel are looking away from each other, there is an Elaboration. Considering how this is nearly 20% than with joint attention, there is likely some correlation between gaze_x, gaze_y and 'Elaborated' values. "
      ],
      "id": "VS_8jP23plkf"
    }
  ]
}