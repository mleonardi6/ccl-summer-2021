{
  "nbformat": 4,
  "nbformat_minor": 5,
  "metadata": {
    "kernelspec": {
      "display_name": "Python 3",
      "language": "python",
      "name": "python3"
    },
    "language_info": {
      "codemirror_mode": {
        "name": "ipython",
        "version": 3
      },
      "file_extension": ".py",
      "mimetype": "text/x-python",
      "name": "python",
      "nbconvert_exporter": "python",
      "pygments_lexer": "ipython3",
      "version": "3.7.10"
    },
    "colab": {
      "name": "week6.ipynb",
      "provenance": [],
      "collapsed_sections": [],
      "include_colab_link": true
    }
  },
  "cells": [
    {
      "cell_type": "markdown",
      "metadata": {
        "id": "view-in-github",
        "colab_type": "text"
      },
      "source": [
        "<a href=\"https://colab.research.google.com/github/mleonardi6/ccl-summer-2021/blob/main/week6.ipynb\" target=\"_parent\"><img src=\"https://colab.research.google.com/assets/colab-badge.svg\" alt=\"Open In Colab\"/></a>"
      ]
    },
    {
      "cell_type": "code",
      "metadata": {
        "colab": {
          "base_uri": "https://localhost:8080/"
        },
        "id": "O7J2q3LeRZzb",
        "outputId": "cbf99687-cc62-4ce7-df34-5b8016974905"
      },
      "source": [
        "from google.colab import drive\n",
        "drive.mount('/content/gdrive')"
      ],
      "id": "O7J2q3LeRZzb",
      "execution_count": 1,
      "outputs": [
        {
          "output_type": "stream",
          "text": [
            "Drive already mounted at /content/gdrive; to attempt to forcibly remount, call drive.mount(\"/content/gdrive\", force_remount=True).\n"
          ],
          "name": "stdout"
        }
      ]
    },
    {
      "cell_type": "code",
      "metadata": {
        "id": "d615f5f4"
      },
      "source": [
        "import pandas as pd\n",
        "import matplotlib\n",
        "import tensorflow as tf\n",
        "from sklearn.preprocessing import MinMaxScaler\n",
        "from tensorflow.keras import optimizers\n",
        "from matplotlib import pyplot as plt \n",
        "import numpy as np\n",
        "import seaborn as sn\n",
        "from sklearn.decomposition import PCA\n",
        "import xgboost as xgb\n",
        "from sklearn.metrics import mean_squared_error\n",
        "from sklearn.model_selection import train_test_split\n",
        "from sklearn.metrics import accuracy_score, roc_curve\n",
        "from sklearn.feature_selection import SelectFromModel\n",
        "from sklearn import datasets, metrics, model_selection, svm"
      ],
      "id": "d615f5f4",
      "execution_count": 2,
      "outputs": []
    },
    {
      "cell_type": "code",
      "metadata": {
        "colab": {
          "base_uri": "https://localhost:8080/"
        },
        "id": "c75b21fa",
        "outputId": "6df2be44-665e-4758-9f3a-3d23950c798c"
      },
      "source": [
        "df = pd.read_csv('/content/gdrive/My Drive/Colab Notebooks/Copy of IMG_5336.csv')\n",
        "df2 = pd.read_csv('/content/gdrive/My Drive/Colab Notebooks/IMG_5334.csv')\n",
        "df3 = pd.read_csv('/content/gdrive/My Drive/Colab Notebooks/DF.csv')\n",
        "au= pd.concat([df[' timestamp'], df.iloc[:,-35:-18]], axis = 1)\n",
        "df3 = df3.loc[:,df3.columns.str.contains('_r|Elaborated|Hypothesizing')]\n",
        "df3 = df3.loc[:,df3.columns.str.contains('AU|Elaborated|Hypothesizing')]\n",
        "df3 = df3.fillna(0)\n",
        "df2 = df2.loc[:,df2.columns.str.contains('_r|Elaborated|Hypothesizing')]\n",
        "df2 = df2.loc[:,df2.columns.str.contains('AU|Elaborated|Hypothesizing')]\n",
        "df2 = df2.fillna(0)\n",
        "df = df.loc[:,df.columns.str.contains('_r|Elaborated|Hypothesizing')]\n",
        "df = df.loc[:,df.columns.str.contains('AU|Elaborated|Hypothesizing')]\n",
        "df = df.fillna(0)\n",
        "dfo = pd.concat([df3,df,df2])\n",
        "dfo.fillna(0)\n",
        "dfo = dfo.reset_index(drop=True)\n"
      ],
      "id": "c75b21fa",
      "execution_count": 3,
      "outputs": [
        {
          "output_type": "stream",
          "text": [
            "/usr/local/lib/python3.7/dist-packages/IPython/core/interactiveshell.py:2718: DtypeWarning: Columns (719,722,723,724,726,727) have mixed types.Specify dtype option on import or set low_memory=False.\n",
            "  interactivity=interactivity, compiler=compiler, result=result)\n"
          ],
          "name": "stderr"
        }
      ]
    },
    {
      "cell_type": "code",
      "metadata": {
        "colab": {
          "base_uri": "https://localhost:8080/"
        },
        "id": "9ffb8b60",
        "outputId": "f95a7909-2fe0-4af4-abfd-200632442187"
      },
      "source": [
        "dfo.shape"
      ],
      "id": "9ffb8b60",
      "execution_count": 4,
      "outputs": [
        {
          "output_type": "execute_result",
          "data": {
            "text/plain": [
              "(168738, 19)"
            ]
          },
          "metadata": {
            "tags": []
          },
          "execution_count": 4
        }
      ]
    },
    {
      "cell_type": "code",
      "metadata": {
        "id": "13ddb606"
      },
      "source": [
        "x = dfo.loc[:,dfo.columns.str.contains('AU')]\n",
        "y = dfo.loc[:,dfo.columns.str.contains('Elaborated')]\n",
        "data_dmatrix = xgb.DMatrix(data=x,label=y)"
      ],
      "id": "13ddb606",
      "execution_count": 5,
      "outputs": []
    },
    {
      "cell_type": "code",
      "metadata": {
        "id": "c76c85f3"
      },
      "source": [
        "dfo = dfo.fillna(0)\n",
        "x_train, x_test, y_train, y_test = train_test_split(dfo.drop(['Elaborated','Hypothesizing'], axis = 'columns'), dfo.Elaborated, test_size = 0.3)"
      ],
      "id": "c76c85f3",
      "execution_count": 6,
      "outputs": []
    },
    {
      "cell_type": "code",
      "metadata": {
        "colab": {
          "base_uri": "https://localhost:8080/"
        },
        "id": "cc47825d",
        "outputId": "56ff9b73-b166-43d1-9ffa-8f2e1cfa0cbe"
      },
      "source": [
        "xg_reg = xgb.XGBRegressor(objective ='reg:linear', colsample_bytree = 0.3, learning_rate = 0.1, max_depth = 5, alpha = 10, n_estimators = 10)\n",
        "xg_reg.fit(x_train,y_train)\n",
        "preds = xg_reg.predict(x_test)\n",
        "for i in range(len(preds)):\n",
        "  if preds[i] >= .33:\n",
        "    preds[i] = 1\n",
        "  else:\n",
        "    preds[i] = 0\n",
        "preds"
      ],
      "id": "cc47825d",
      "execution_count": 7,
      "outputs": [
        {
          "output_type": "stream",
          "text": [
            "[16:34:47] WARNING: /workspace/src/objective/regression_obj.cu:152: reg:linear is now deprecated in favor of reg:squarederror.\n"
          ],
          "name": "stdout"
        },
        {
          "output_type": "execute_result",
          "data": {
            "text/plain": [
              "array([0., 0., 1., ..., 0., 1., 1.], dtype=float32)"
            ]
          },
          "metadata": {
            "tags": []
          },
          "execution_count": 7
        }
      ]
    },
    {
      "cell_type": "code",
      "metadata": {
        "colab": {
          "base_uri": "https://localhost:8080/"
        },
        "id": "BRuiZsc4U42t",
        "outputId": "dc767203-e22c-41d3-bda8-5e65936ba671"
      },
      "source": [
        "accuracy = accuracy_score(y_test, preds)\n",
        "print(\"Accuracy: %.2f%%\" % (accuracy * 100.0))"
      ],
      "id": "BRuiZsc4U42t",
      "execution_count": 8,
      "outputs": [
        {
          "output_type": "stream",
          "text": [
            "Accuracy: 78.44%\n"
          ],
          "name": "stdout"
        }
      ]
    },
    {
      "cell_type": "markdown",
      "metadata": {
        "id": "1riAAvqai8qC"
      },
      "source": [
        "I adjusted the parameters for a 'elaborated' prediction to be a value >= 0.33 generated by the xgboost model. This produced a much higher accuracy predicting 1s for 'Elaborated', around 62%. Lowering the parameter increases the accuracy for 1s, but lowers it for 0s. "
      ],
      "id": "1riAAvqai8qC"
    },
    {
      "cell_type": "code",
      "metadata": {
        "colab": {
          "base_uri": "https://localhost:8080/",
          "height": 459
        },
        "id": "Dq81kXxqaq3x",
        "outputId": "483a5396-3759-42f9-a22d-2b126fe6dec4"
      },
      "source": [
        "from sklearn.metrics import confusion_matrix\n",
        "cm = confusion_matrix(y_test, preds)\n",
        "%matplotlib inline\n",
        "import matplotlib.pyplot as plt\n",
        "import seaborn as sn\n",
        "plt.figure(figsize = (10,7))\n",
        "sn.heatmap(cm, annot=True)\n",
        "plt.xlabel('Predicted')\n",
        "plt.ylabel('Truth')"
      ],
      "id": "Dq81kXxqaq3x",
      "execution_count": 9,
      "outputs": [
        {
          "output_type": "execute_result",
          "data": {
            "text/plain": [
              "Text(69.0, 0.5, 'Truth')"
            ]
          },
          "metadata": {
            "tags": []
          },
          "execution_count": 9
        },
        {
          "output_type": "display_data",
          "data": {
            "image/png": "[encoded data removed]",
            "text/plain": [
              "<Figure size 720x504 with 2 Axes>"
            ]
          },
          "metadata": {
            "tags": [],
            "needs_background": "light"
          }
        }
      ]
    },
    {
      "cell_type": "code",
      "metadata": {
        "colab": {
          "base_uri": "https://localhost:8080/",
          "height": 265
        },
        "id": "N18PSX9tob8A",
        "outputId": "77646d77-cf28-4d71-afe5-c55ef3c57fd0"
      },
      "source": [
        "plt.bar(range(len(xg_reg.feature_importances_)), xg_reg.feature_importances_)\n",
        "plt.show()"
      ],
      "id": "N18PSX9tob8A",
      "execution_count": 10,
      "outputs": [
        {
          "output_type": "display_data",
          "data": {
            "image/png": "[encoded data removed]",
            "text/plain": [
              "<Figure size 432x288 with 1 Axes>"
            ]
          },
          "metadata": {
            "tags": [],
            "needs_background": "light"
          }
        }
      ]
    },
    {
      "cell_type": "code",
      "metadata": {
        "colab": {
          "base_uri": "https://localhost:8080/"
        },
        "id": "o27-DjpWoula",
        "outputId": "c41cb81a-82fe-4eca-cd9d-79103163ef53"
      },
      "source": [
        "for col in dfo.columns:\n",
        "    print(col)"
      ],
      "id": "o27-DjpWoula",
      "execution_count": 11,
      "outputs": [
        {
          "output_type": "stream",
          "text": [
            " AU01_r\n",
            " AU02_r\n",
            " AU04_r\n",
            " AU05_r\n",
            " AU06_r\n",
            " AU07_r\n",
            " AU09_r\n",
            " AU10_r\n",
            " AU12_r\n",
            " AU14_r\n",
            " AU15_r\n",
            " AU17_r\n",
            " AU20_r\n",
            " AU23_r\n",
            " AU25_r\n",
            " AU26_r\n",
            " AU45_r\n",
            "Elaborated\n",
            "Hypothesizing\n"
          ],
          "name": "stdout"
        }
      ]
    },
    {
      "cell_type": "markdown",
      "metadata": {
        "id": "kUqPWr0Ko6Q0"
      },
      "source": [
        "AU_7 is most important, looks like AU_04, AU_15 and AU_25 are least important. Going to try with the most important half of features below."
      ],
      "id": "kUqPWr0Ko6Q0"
    },
    {
      "cell_type": "code",
      "metadata": {
        "colab": {
          "base_uri": "https://localhost:8080/"
        },
        "id": "aiSd9-4DrFov",
        "outputId": "cf5c1397-2368-4112-dacf-92aa6697d17f"
      },
      "source": [
        "selection = SelectFromModel(xg_reg, threshold=0.05, prefit=True)\n",
        "select_X_train = selection.transform(x_train)\n",
        "# train model\n",
        "selection_model = xgb.XGBRegressor(objective ='reg:linear', colsample_bytree = 0.3, learning_rate = 0.1, max_depth = 5, alpha = 10, n_estimators = 10)\n",
        "selection_model.fit(select_X_train, y_train)\n",
        "# eval model\n",
        "select_X_test = selection.transform(x_test)\n",
        "y_pred = selection_model.predict(select_X_test)\n"
      ],
      "id": "aiSd9-4DrFov",
      "execution_count": 12,
      "outputs": [
        {
          "output_type": "stream",
          "text": [
            "[16:34:48] WARNING: /workspace/src/objective/regression_obj.cu:152: reg:linear is now deprecated in favor of reg:squarederror.\n"
          ],
          "name": "stdout"
        }
      ]
    },
    {
      "cell_type": "code",
      "metadata": {
        "colab": {
          "base_uri": "https://localhost:8080/"
        },
        "id": "LsrCACFPsIkq",
        "outputId": "ffc724ed-c265-483b-ee87-d118a596fa77"
      },
      "source": [
        "y_pred = selection_model.predict(select_X_test)\n",
        "for i in range(len(y_pred)):\n",
        "  if y_pred[i] >= .31:\n",
        "    y_pred[i] = 1\n",
        "  else:\n",
        "    y_pred[i] = 0\n",
        "accuracy = accuracy_score(y_test, y_pred)\n",
        "print(\"Accuracy: %.2f%%\" % (accuracy * 100.0))"
      ],
      "id": "LsrCACFPsIkq",
      "execution_count": 13,
      "outputs": [
        {
          "output_type": "stream",
          "text": [
            "Accuracy: 72.14%\n"
          ],
          "name": "stdout"
        }
      ]
    },
    {
      "cell_type": "code",
      "metadata": {
        "colab": {
          "base_uri": "https://localhost:8080/",
          "height": 459
        },
        "id": "q7Q_rPs-rwv1",
        "outputId": "159e4515-5d0e-4df1-e248-ccc17e421c5f"
      },
      "source": [
        "cm = confusion_matrix(y_test, y_pred)\n",
        "%matplotlib inline\n",
        "import matplotlib.pyplot as plt\n",
        "import seaborn as sn\n",
        "plt.figure(figsize = (10,7))\n",
        "sn.heatmap(cm, annot=True)\n",
        "plt.xlabel('Predicted')\n",
        "plt.ylabel('Truth')"
      ],
      "id": "q7Q_rPs-rwv1",
      "execution_count": 14,
      "outputs": [
        {
          "output_type": "execute_result",
          "data": {
            "text/plain": [
              "Text(69.0, 0.5, 'Truth')"
            ]
          },
          "metadata": {
            "tags": []
          },
          "execution_count": 14
        },
        {
          "output_type": "display_data",
          "data": {
            "image/png": "[encoded data removed]",
            "text/plain": [
              "<Figure size 720x504 with 2 Axes>"
            ]
          },
          "metadata": {
            "tags": [],
            "needs_background": "light"
          }
        }
      ]
    },
    {
      "cell_type": "markdown",
      "metadata": {
        "id": "f80e2bd9"
      },
      "source": [
        "Not sure if this really increased the accuracy, had to lower the parameter to .31 to get the elaborated accuracy over 50%."
      ],
      "id": "f80e2bd9"
    },
    {
      "cell_type": "markdown",
      "metadata": {
        "id": "_zF6h7LsNTJf"
      },
      "source": [
        "ROC Curve"
      ],
      "id": "_zF6h7LsNTJf"
    },
    {
      "cell_type": "code",
      "metadata": {
        "colab": {
          "base_uri": "https://localhost:8080/",
          "height": 279
        },
        "id": "wK6n2qdRGYzo",
        "outputId": "52852f27-e8e9-4af3-8545-4fcf452c92a3"
      },
      "source": [
        "ns = [0 for _ in range(len(y_test))]\n",
        "plt.figure\n",
        "ns_fpr, ns_tpr, _ = roc_curve(y_test, y_pred)\n",
        "lr_fpr, lr_tpr, _ = roc_curve(y_test, ns)\n",
        "plt.plot(ns_fpr, ns_tpr, linestyle='--', label='No Skill')\n",
        "plt.plot(lr_fpr, lr_tpr, marker='.', label='Logistic')\n",
        "plt.xlabel('False Positive Rate')\n",
        "plt.ylabel('True Positive Rate')\n",
        "plt.legend()\n",
        "plt.show()"
      ],
      "id": "wK6n2qdRGYzo",
      "execution_count": 24,
      "outputs": [
        {
          "output_type": "display_data",
          "data": {
            "image/png": "[encoded data removed]",
            "text/plain": [
              "<Figure size 432x288 with 1 Axes>"
            ]
          },
          "metadata": {
            "tags": [],
            "needs_background": "light"
          }
        }
      ]
    }
  ]
}